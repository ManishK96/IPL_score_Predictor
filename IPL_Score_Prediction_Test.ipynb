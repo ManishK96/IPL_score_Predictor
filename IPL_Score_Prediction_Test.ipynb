{
  "nbformat": 4,
  "nbformat_minor": 0,
  "metadata": {
    "colab": {
      "name": "Copy of IPL_Score_Prediction_Test.ipynb",
      "provenance": [],
      "collapsed_sections": [],
      "include_colab_link": true
    },
    "kernelspec": {
      "name": "python3",
      "display_name": "Python 3"
    },
    "language_info": {
      "name": "python"
    }
  },
  "cells": [
    {
      "cell_type": "markdown",
      "metadata": {
        "id": "view-in-github",
        "colab_type": "text"
      },
      "source": [
        "<a href=\"https://colab.research.google.com/github/ManishK96/IPL_score_Predictor/blob/main/IPL_Score_Prediction_Test.ipynb\" target=\"_parent\"><img src=\"https://colab.research.google.com/assets/colab-badge.svg\" alt=\"Open In Colab\"/></a>"
      ]
    },
    {
      "cell_type": "markdown",
      "metadata": {
        "id": "kSUR0xxI-Iqo"
      },
      "source": [
        "Importing all necessary packages"
      ]
    },
    {
      "cell_type": "code",
      "metadata": {
        "id": "qBMJxpsP-K1Z"
      },
      "source": [
        "import numpy as np\n",
        "import pandas as pd\n",
        "from sklearn.linear_model import LinearRegression\n",
        "from sklearn.preprocessing import LabelEncoder\n",
        "from sklearn.model_selection import train_test_split\n",
        "import joblib\n",
        "from google.colab import files\n",
        "import tensorflow as tf\n",
        "from tensorflow.keras.callbacks import TensorBoard\n",
        "import time\n",
        "from tensorflow.keras.layers.experimental import preprocessing\n",
        "from tensorflow import keras\n",
        "import matplotlib.pyplot as plt\n",
        "from numpy import argmax\n",
        "from keras.utils import to_categorical\n",
        "import random\n",
        "\n"
      ],
      "execution_count": 37,
      "outputs": []
    },
    {
      "cell_type": "markdown",
      "metadata": {
        "id": "XRlTOBXm-lOE"
      },
      "source": [
        "Loading dataset allmatches.csv"
      ]
    },
    {
      "cell_type": "code",
      "metadata": {
        "id": "hpQbS-Qw-wR3"
      },
      "source": [
        "github_url = \"https://raw.githubusercontent.com/ManishK96/IPL_score_Predictor/main/training_data_jaitley_stadium_csk_vs_srh.csv\"\n",
        "df=pd.read_csv(github_url)"
      ],
      "execution_count": 38,
      "outputs": []
    },
    {
      "cell_type": "markdown",
      "metadata": {
        "id": "oNWEP0-2GV00"
      },
      "source": [
        "Pre Processing DataSet\n",
        "Step 1 : Remove columns with NaN, and other unnecessary columns"
      ]
    },
    {
      "cell_type": "code",
      "metadata": {
        "colab": {
          "base_uri": "https://localhost:8080/",
          "height": 383
        },
        "id": "4C-TNZenGObk",
        "outputId": "2229c1cb-5c1b-4562-ca86-bbab90758bd3"
      },
      "source": [
        "df2= df.dropna(axis=0,how='all')\n",
        "#df2= df1.dropna(axis=1)\n",
        "df2.head()"
      ],
      "execution_count": 7,
      "outputs": [
        {
          "output_type": "execute_result",
          "data": {
            "text/html": [
              "<div>\n",
              "<style scoped>\n",
              "    .dataframe tbody tr th:only-of-type {\n",
              "        vertical-align: middle;\n",
              "    }\n",
              "\n",
              "    .dataframe tbody tr th {\n",
              "        vertical-align: top;\n",
              "    }\n",
              "\n",
              "    .dataframe thead th {\n",
              "        text-align: right;\n",
              "    }\n",
              "</style>\n",
              "<table border=\"1\" class=\"dataframe\">\n",
              "  <thead>\n",
              "    <tr style=\"text-align: right;\">\n",
              "      <th></th>\n",
              "      <th>match_id</th>\n",
              "      <th>season</th>\n",
              "      <th>start_date</th>\n",
              "      <th>venue</th>\n",
              "      <th>innings</th>\n",
              "      <th>ball</th>\n",
              "      <th>batting_team</th>\n",
              "      <th>bowling_team</th>\n",
              "      <th>striker</th>\n",
              "      <th>non_striker</th>\n",
              "      <th>bowler</th>\n",
              "      <th>runs_off_bat</th>\n",
              "      <th>extras</th>\n",
              "      <th>wides</th>\n",
              "      <th>noballs</th>\n",
              "      <th>byes</th>\n",
              "      <th>legbyes</th>\n",
              "      <th>penalty</th>\n",
              "      <th>wicket_type</th>\n",
              "      <th>player_dismissed</th>\n",
              "      <th>other_wicket_type</th>\n",
              "      <th>other_player_dismissed</th>\n",
              "    </tr>\n",
              "  </thead>\n",
              "  <tbody>\n",
              "    <tr>\n",
              "      <th>0</th>\n",
              "      <td>729283</td>\n",
              "      <td>2014</td>\n",
              "      <td>18-04-14</td>\n",
              "      <td>Sheikh Zayed Stadium</td>\n",
              "      <td>1</td>\n",
              "      <td>0.1</td>\n",
              "      <td>Chennai Super Kings</td>\n",
              "      <td>Punjab Kings</td>\n",
              "      <td>DR Smith</td>\n",
              "      <td>BB McCullum</td>\n",
              "      <td>AR Patel</td>\n",
              "      <td>1</td>\n",
              "      <td>0</td>\n",
              "      <td>NaN</td>\n",
              "      <td>NaN</td>\n",
              "      <td>NaN</td>\n",
              "      <td>NaN</td>\n",
              "      <td>NaN</td>\n",
              "      <td>NaN</td>\n",
              "      <td>NaN</td>\n",
              "      <td>NaN</td>\n",
              "      <td>NaN</td>\n",
              "    </tr>\n",
              "    <tr>\n",
              "      <th>1</th>\n",
              "      <td>729283</td>\n",
              "      <td>2014</td>\n",
              "      <td>18-04-14</td>\n",
              "      <td>Sheikh Zayed Stadium</td>\n",
              "      <td>1</td>\n",
              "      <td>0.2</td>\n",
              "      <td>Chennai Super Kings</td>\n",
              "      <td>Punjab Kings</td>\n",
              "      <td>BB McCullum</td>\n",
              "      <td>DR Smith</td>\n",
              "      <td>AR Patel</td>\n",
              "      <td>2</td>\n",
              "      <td>0</td>\n",
              "      <td>NaN</td>\n",
              "      <td>NaN</td>\n",
              "      <td>NaN</td>\n",
              "      <td>NaN</td>\n",
              "      <td>NaN</td>\n",
              "      <td>NaN</td>\n",
              "      <td>NaN</td>\n",
              "      <td>NaN</td>\n",
              "      <td>NaN</td>\n",
              "    </tr>\n",
              "    <tr>\n",
              "      <th>2</th>\n",
              "      <td>729283</td>\n",
              "      <td>2014</td>\n",
              "      <td>18-04-14</td>\n",
              "      <td>Sheikh Zayed Stadium</td>\n",
              "      <td>1</td>\n",
              "      <td>0.3</td>\n",
              "      <td>Chennai Super Kings</td>\n",
              "      <td>Punjab Kings</td>\n",
              "      <td>BB McCullum</td>\n",
              "      <td>DR Smith</td>\n",
              "      <td>AR Patel</td>\n",
              "      <td>0</td>\n",
              "      <td>5</td>\n",
              "      <td>5.0</td>\n",
              "      <td>NaN</td>\n",
              "      <td>NaN</td>\n",
              "      <td>NaN</td>\n",
              "      <td>NaN</td>\n",
              "      <td>NaN</td>\n",
              "      <td>NaN</td>\n",
              "      <td>NaN</td>\n",
              "      <td>NaN</td>\n",
              "    </tr>\n",
              "    <tr>\n",
              "      <th>3</th>\n",
              "      <td>729283</td>\n",
              "      <td>2014</td>\n",
              "      <td>18-04-14</td>\n",
              "      <td>Sheikh Zayed Stadium</td>\n",
              "      <td>1</td>\n",
              "      <td>0.4</td>\n",
              "      <td>Chennai Super Kings</td>\n",
              "      <td>Punjab Kings</td>\n",
              "      <td>BB McCullum</td>\n",
              "      <td>DR Smith</td>\n",
              "      <td>AR Patel</td>\n",
              "      <td>0</td>\n",
              "      <td>0</td>\n",
              "      <td>NaN</td>\n",
              "      <td>NaN</td>\n",
              "      <td>NaN</td>\n",
              "      <td>NaN</td>\n",
              "      <td>NaN</td>\n",
              "      <td>NaN</td>\n",
              "      <td>NaN</td>\n",
              "      <td>NaN</td>\n",
              "      <td>NaN</td>\n",
              "    </tr>\n",
              "    <tr>\n",
              "      <th>4</th>\n",
              "      <td>729283</td>\n",
              "      <td>2014</td>\n",
              "      <td>18-04-14</td>\n",
              "      <td>Sheikh Zayed Stadium</td>\n",
              "      <td>1</td>\n",
              "      <td>0.5</td>\n",
              "      <td>Chennai Super Kings</td>\n",
              "      <td>Punjab Kings</td>\n",
              "      <td>BB McCullum</td>\n",
              "      <td>DR Smith</td>\n",
              "      <td>AR Patel</td>\n",
              "      <td>0</td>\n",
              "      <td>0</td>\n",
              "      <td>NaN</td>\n",
              "      <td>NaN</td>\n",
              "      <td>NaN</td>\n",
              "      <td>NaN</td>\n",
              "      <td>NaN</td>\n",
              "      <td>NaN</td>\n",
              "      <td>NaN</td>\n",
              "      <td>NaN</td>\n",
              "      <td>NaN</td>\n",
              "    </tr>\n",
              "  </tbody>\n",
              "</table>\n",
              "</div>"
            ],
            "text/plain": [
              "   match_id season  ... other_wicket_type other_player_dismissed\n",
              "0    729283   2014  ...               NaN                    NaN\n",
              "1    729283   2014  ...               NaN                    NaN\n",
              "2    729283   2014  ...               NaN                    NaN\n",
              "3    729283   2014  ...               NaN                    NaN\n",
              "4    729283   2014  ...               NaN                    NaN\n",
              "\n",
              "[5 rows x 22 columns]"
            ]
          },
          "metadata": {
            "tags": []
          },
          "execution_count": 7
        }
      ]
    },
    {
      "cell_type": "code",
      "metadata": {
        "colab": {
          "base_uri": "https://localhost:8080/",
          "height": 195
        },
        "id": "t5cXOoExziCS",
        "outputId": "306bf8ef-a76b-458a-bebd-74af237fa427"
      },
      "source": [
        "df2 = df2.drop(columns=[\"wides\", \"noballs\", \"byes\", \"legbyes\", \"penalty\", \"player_dismissed\", \"other_player_dismissed\"])\n",
        "\n",
        "df2[\"total_runs\"] = df2[\"runs_off_bat\"]+df2[\"extras\"]\n",
        "\n",
        "df2 = df2.replace(to_replace=[\"caught\", \"bowled\", \"run out\", \"lbw\", \"stumped\", \"caught and bowled\", \"hit wicket\", \"retired hurt\", \"obstructing the field\"], value=1)\n",
        "df2[\"wicket_type\"] = df2[\"wicket_type\"].fillna(0)\n",
        "df2[\"other_wicket_type\"] = df2[\"other_wicket_type\"].fillna(0)\n",
        "df2[\"total_wickets\"] = df2[\"wicket_type\"]+df2[\"other_wicket_type\"]\n",
        "\n",
        "df2 = df2.drop(columns=[\"runs_off_bat\", \"extras\", \"start_date\", \"striker\", \"non_striker\", \"bowler\", \"wicket_type\", \"other_wicket_type\"])\n",
        "df2.head()"
      ],
      "execution_count": 8,
      "outputs": [
        {
          "output_type": "execute_result",
          "data": {
            "text/html": [
              "<div>\n",
              "<style scoped>\n",
              "    .dataframe tbody tr th:only-of-type {\n",
              "        vertical-align: middle;\n",
              "    }\n",
              "\n",
              "    .dataframe tbody tr th {\n",
              "        vertical-align: top;\n",
              "    }\n",
              "\n",
              "    .dataframe thead th {\n",
              "        text-align: right;\n",
              "    }\n",
              "</style>\n",
              "<table border=\"1\" class=\"dataframe\">\n",
              "  <thead>\n",
              "    <tr style=\"text-align: right;\">\n",
              "      <th></th>\n",
              "      <th>match_id</th>\n",
              "      <th>season</th>\n",
              "      <th>venue</th>\n",
              "      <th>innings</th>\n",
              "      <th>ball</th>\n",
              "      <th>batting_team</th>\n",
              "      <th>bowling_team</th>\n",
              "      <th>total_runs</th>\n",
              "      <th>total_wickets</th>\n",
              "    </tr>\n",
              "  </thead>\n",
              "  <tbody>\n",
              "    <tr>\n",
              "      <th>0</th>\n",
              "      <td>729283</td>\n",
              "      <td>2014</td>\n",
              "      <td>Sheikh Zayed Stadium</td>\n",
              "      <td>1</td>\n",
              "      <td>0.1</td>\n",
              "      <td>Chennai Super Kings</td>\n",
              "      <td>Punjab Kings</td>\n",
              "      <td>1</td>\n",
              "      <td>0.0</td>\n",
              "    </tr>\n",
              "    <tr>\n",
              "      <th>1</th>\n",
              "      <td>729283</td>\n",
              "      <td>2014</td>\n",
              "      <td>Sheikh Zayed Stadium</td>\n",
              "      <td>1</td>\n",
              "      <td>0.2</td>\n",
              "      <td>Chennai Super Kings</td>\n",
              "      <td>Punjab Kings</td>\n",
              "      <td>2</td>\n",
              "      <td>0.0</td>\n",
              "    </tr>\n",
              "    <tr>\n",
              "      <th>2</th>\n",
              "      <td>729283</td>\n",
              "      <td>2014</td>\n",
              "      <td>Sheikh Zayed Stadium</td>\n",
              "      <td>1</td>\n",
              "      <td>0.3</td>\n",
              "      <td>Chennai Super Kings</td>\n",
              "      <td>Punjab Kings</td>\n",
              "      <td>5</td>\n",
              "      <td>0.0</td>\n",
              "    </tr>\n",
              "    <tr>\n",
              "      <th>3</th>\n",
              "      <td>729283</td>\n",
              "      <td>2014</td>\n",
              "      <td>Sheikh Zayed Stadium</td>\n",
              "      <td>1</td>\n",
              "      <td>0.4</td>\n",
              "      <td>Chennai Super Kings</td>\n",
              "      <td>Punjab Kings</td>\n",
              "      <td>0</td>\n",
              "      <td>0.0</td>\n",
              "    </tr>\n",
              "    <tr>\n",
              "      <th>4</th>\n",
              "      <td>729283</td>\n",
              "      <td>2014</td>\n",
              "      <td>Sheikh Zayed Stadium</td>\n",
              "      <td>1</td>\n",
              "      <td>0.5</td>\n",
              "      <td>Chennai Super Kings</td>\n",
              "      <td>Punjab Kings</td>\n",
              "      <td>0</td>\n",
              "      <td>0.0</td>\n",
              "    </tr>\n",
              "  </tbody>\n",
              "</table>\n",
              "</div>"
            ],
            "text/plain": [
              "   match_id season  ... total_runs  total_wickets\n",
              "0    729283   2014  ...          1            0.0\n",
              "1    729283   2014  ...          2            0.0\n",
              "2    729283   2014  ...          5            0.0\n",
              "3    729283   2014  ...          0            0.0\n",
              "4    729283   2014  ...          0            0.0\n",
              "\n",
              "[5 rows x 9 columns]"
            ]
          },
          "metadata": {
            "tags": []
          },
          "execution_count": 8
        }
      ]
    },
    {
      "cell_type": "markdown",
      "metadata": {
        "id": "_ZRSyJFnKmzp"
      },
      "source": [
        "Step 2 : Processing Rows"
      ]
    },
    {
      "cell_type": "code",
      "metadata": {
        "colab": {
          "base_uri": "https://localhost:8080/",
          "height": 195
        },
        "id": "mnsDZv5TKrG-",
        "outputId": "3806d7c9-0c3a-43e8-c659-058759f619af"
      },
      "source": [
        "df2 = df2[df2[\"ball\"] <= 5.6]\n",
        "df2 = df2[df2[\"innings\"] <= 2]\n",
        "df_runs = df2.groupby([\"match_id\", \"season\", \"venue\", \"innings\", \"batting_team\", \"bowling_team\"]).total_runs.sum()\n",
        "df2 = df2.groupby([\"match_id\", \"season\", \"venue\", \"innings\", \"batting_team\", \"bowling_team\"]).total_wickets.sum()\n",
        "df2 = df2.reset_index()\n",
        "df_runs = df_runs.reset_index()\n",
        "df2[\"total_runs\"] = df_runs[\"total_runs\"]\n",
        "df2 = df2.drop(columns=[\"match_id\", \"season\"])\n",
        "data = df2\n",
        "data.head()"
      ],
      "execution_count": 9,
      "outputs": [
        {
          "output_type": "execute_result",
          "data": {
            "text/html": [
              "<div>\n",
              "<style scoped>\n",
              "    .dataframe tbody tr th:only-of-type {\n",
              "        vertical-align: middle;\n",
              "    }\n",
              "\n",
              "    .dataframe tbody tr th {\n",
              "        vertical-align: top;\n",
              "    }\n",
              "\n",
              "    .dataframe thead th {\n",
              "        text-align: right;\n",
              "    }\n",
              "</style>\n",
              "<table border=\"1\" class=\"dataframe\">\n",
              "  <thead>\n",
              "    <tr style=\"text-align: right;\">\n",
              "      <th></th>\n",
              "      <th>venue</th>\n",
              "      <th>innings</th>\n",
              "      <th>batting_team</th>\n",
              "      <th>bowling_team</th>\n",
              "      <th>total_wickets</th>\n",
              "      <th>total_runs</th>\n",
              "    </tr>\n",
              "  </thead>\n",
              "  <tbody>\n",
              "    <tr>\n",
              "      <th>0</th>\n",
              "      <td>Sheikh Zayed Stadium</td>\n",
              "      <td>1</td>\n",
              "      <td>Chennai Super Kings</td>\n",
              "      <td>Punjab Kings</td>\n",
              "      <td>0.0</td>\n",
              "      <td>70</td>\n",
              "    </tr>\n",
              "    <tr>\n",
              "      <th>1</th>\n",
              "      <td>Sheikh Zayed Stadium</td>\n",
              "      <td>2</td>\n",
              "      <td>Punjab Kings</td>\n",
              "      <td>Chennai Super Kings</td>\n",
              "      <td>3.0</td>\n",
              "      <td>63</td>\n",
              "    </tr>\n",
              "    <tr>\n",
              "      <th>2</th>\n",
              "      <td>Sheikh Zayed Stadium</td>\n",
              "      <td>1</td>\n",
              "      <td>Sunrisers Hyderabad</td>\n",
              "      <td>Rajasthan Royals</td>\n",
              "      <td>1.0</td>\n",
              "      <td>41</td>\n",
              "    </tr>\n",
              "    <tr>\n",
              "      <th>3</th>\n",
              "      <td>Sheikh Zayed Stadium</td>\n",
              "      <td>2</td>\n",
              "      <td>Rajasthan Royals</td>\n",
              "      <td>Sunrisers Hyderabad</td>\n",
              "      <td>2.0</td>\n",
              "      <td>30</td>\n",
              "    </tr>\n",
              "    <tr>\n",
              "      <th>4</th>\n",
              "      <td>Sheikh Zayed Stadium</td>\n",
              "      <td>1</td>\n",
              "      <td>Chennai Super Kings</td>\n",
              "      <td>Delhi Capitals</td>\n",
              "      <td>1.0</td>\n",
              "      <td>34</td>\n",
              "    </tr>\n",
              "  </tbody>\n",
              "</table>\n",
              "</div>"
            ],
            "text/plain": [
              "                  venue  innings  ... total_wickets total_runs\n",
              "0  Sheikh Zayed Stadium        1  ...           0.0         70\n",
              "1  Sheikh Zayed Stadium        2  ...           3.0         63\n",
              "2  Sheikh Zayed Stadium        1  ...           1.0         41\n",
              "3  Sheikh Zayed Stadium        2  ...           2.0         30\n",
              "4  Sheikh Zayed Stadium        1  ...           1.0         34\n",
              "\n",
              "[5 rows x 6 columns]"
            ]
          },
          "metadata": {
            "tags": []
          },
          "execution_count": 9
        }
      ]
    },
    {
      "cell_type": "code",
      "metadata": {
        "colab": {
          "base_uri": "https://localhost:8080/",
          "height": 195
        },
        "id": "JR9WWbDBQ1OE",
        "outputId": "a028c019-a2c0-47ae-f78b-16950ee0a60f"
      },
      "source": [
        "venue_encoder = LabelEncoder()\n",
        "team_encoder = LabelEncoder()\n",
        "data[\"venue\"] = venue_encoder.fit_transform(data[\"venue\"])\n",
        "data[\"batting_team\"] = team_encoder.fit_transform(data[\"batting_team\"])\n",
        "data[\"bowling_team\"] = team_encoder.fit_transform(data[\"bowling_team\"])\n",
        "\n",
        "data.head()"
      ],
      "execution_count": 10,
      "outputs": [
        {
          "output_type": "execute_result",
          "data": {
            "text/html": [
              "<div>\n",
              "<style scoped>\n",
              "    .dataframe tbody tr th:only-of-type {\n",
              "        vertical-align: middle;\n",
              "    }\n",
              "\n",
              "    .dataframe tbody tr th {\n",
              "        vertical-align: top;\n",
              "    }\n",
              "\n",
              "    .dataframe thead th {\n",
              "        text-align: right;\n",
              "    }\n",
              "</style>\n",
              "<table border=\"1\" class=\"dataframe\">\n",
              "  <thead>\n",
              "    <tr style=\"text-align: right;\">\n",
              "      <th></th>\n",
              "      <th>venue</th>\n",
              "      <th>innings</th>\n",
              "      <th>batting_team</th>\n",
              "      <th>bowling_team</th>\n",
              "      <th>total_wickets</th>\n",
              "      <th>total_runs</th>\n",
              "    </tr>\n",
              "  </thead>\n",
              "  <tbody>\n",
              "    <tr>\n",
              "      <th>0</th>\n",
              "      <td>18</td>\n",
              "      <td>1</td>\n",
              "      <td>0</td>\n",
              "      <td>5</td>\n",
              "      <td>0.0</td>\n",
              "      <td>70</td>\n",
              "    </tr>\n",
              "    <tr>\n",
              "      <th>1</th>\n",
              "      <td>18</td>\n",
              "      <td>2</td>\n",
              "      <td>5</td>\n",
              "      <td>0</td>\n",
              "      <td>3.0</td>\n",
              "      <td>63</td>\n",
              "    </tr>\n",
              "    <tr>\n",
              "      <th>2</th>\n",
              "      <td>18</td>\n",
              "      <td>1</td>\n",
              "      <td>10</td>\n",
              "      <td>6</td>\n",
              "      <td>1.0</td>\n",
              "      <td>41</td>\n",
              "    </tr>\n",
              "    <tr>\n",
              "      <th>3</th>\n",
              "      <td>18</td>\n",
              "      <td>2</td>\n",
              "      <td>6</td>\n",
              "      <td>10</td>\n",
              "      <td>2.0</td>\n",
              "      <td>30</td>\n",
              "    </tr>\n",
              "    <tr>\n",
              "      <th>4</th>\n",
              "      <td>18</td>\n",
              "      <td>1</td>\n",
              "      <td>0</td>\n",
              "      <td>1</td>\n",
              "      <td>1.0</td>\n",
              "      <td>34</td>\n",
              "    </tr>\n",
              "  </tbody>\n",
              "</table>\n",
              "</div>"
            ],
            "text/plain": [
              "   venue  innings  batting_team  bowling_team  total_wickets  total_runs\n",
              "0     18        1             0             5            0.0          70\n",
              "1     18        2             5             0            3.0          63\n",
              "2     18        1            10             6            1.0          41\n",
              "3     18        2             6            10            2.0          30\n",
              "4     18        1             0             1            1.0          34"
            ]
          },
          "metadata": {
            "tags": []
          },
          "execution_count": 10
        }
      ]
    },
    {
      "cell_type": "code",
      "metadata": {
        "id": "KrtSoiD6V2LL"
      },
      "source": [
        "array = data.to_numpy()\n",
        "random.shuffle(array)\n",
        "X,y = array[:,:5],array[:,5]\n",
        "X_train, X_test, y_train, y_test = train_test_split(X,y,test_size=0.2)"
      ],
      "execution_count": 11,
      "outputs": []
    },
    {
      "cell_type": "code",
      "metadata": {
        "colab": {
          "base_uri": "https://localhost:8080/"
        },
        "id": "UUC-DuGi5aN6",
        "outputId": "e9e2918d-8db7-4aa5-eed7-877b50e3fa54"
      },
      "source": [
        "X_train[0:10]"
      ],
      "execution_count": 232,
      "outputs": [
        {
          "output_type": "execute_result",
          "data": {
            "text/plain": [
              "array([[18.,  2.,  5.,  0.,  3.],\n",
              "       [ 4.,  1.,  4.,  0.,  2.],\n",
              "       [ 0.,  2.,  0.,  1.,  0.],\n",
              "       [19.,  2.,  4., 10.,  2.],\n",
              "       [18.,  2.,  5.,  0.,  3.],\n",
              "       [16.,  1., 10.,  1.,  2.],\n",
              "       [ 4.,  1.,  4.,  0.,  2.],\n",
              "       [18.,  2.,  6., 10.,  2.],\n",
              "       [11.,  1., 10.,  5.,  2.],\n",
              "       [14.,  1.,  2., 10.,  1.]])"
            ]
          },
          "metadata": {
            "tags": []
          },
          "execution_count": 232
        }
      ]
    },
    {
      "cell_type": "code",
      "metadata": {
        "colab": {
          "base_uri": "https://localhost:8080/"
        },
        "id": "97BZmOP0-3jk",
        "outputId": "f3b0932e-38d4-4981-feaa-08f6f4f14f56"
      },
      "source": [
        "print(y_test.shape)\n",
        "print(X_test.shape)\n",
        "print(y_train.shape)\n",
        "print(y_test[0])"
      ],
      "execution_count": 229,
      "outputs": [
        {
          "output_type": "stream",
          "text": [
            "(74,)\n",
            "(74, 5)\n",
            "(296,)\n",
            "44.0\n"
          ],
          "name": "stdout"
        }
      ]
    },
    {
      "cell_type": "code",
      "metadata": {
        "id": "YAFiOa5sJIKU"
      },
      "source": [
        "name =  \"Score Predictor-{}\".format(int(time.time()))\n",
        "\n",
        "tensorboard = TensorBoard(log_dir=\"logs/{}\".format(name))\n",
        "\n",
        "X_train_norm= preprocessing.Normalization(input_shape=[1,])\n",
        "X_train_norm.adapt(X_train)"
      ],
      "execution_count": 12,
      "outputs": []
    },
    {
      "cell_type": "code",
      "metadata": {
        "colab": {
          "base_uri": "https://localhost:8080/"
        },
        "id": "vlj2bQ8RuItu",
        "outputId": "2fa1aafa-6851-4e11-c519-0d7aa03380b1"
      },
      "source": [
        "print(X_train_norm)"
      ],
      "execution_count": 218,
      "outputs": [
        {
          "output_type": "stream",
          "text": [
            "<tensorflow.python.keras.layers.preprocessing.normalization.Normalization object at 0x7fef980c01d0>\n"
          ],
          "name": "stdout"
        }
      ]
    },
    {
      "cell_type": "code",
      "metadata": {
        "id": "mq3s725eJWRI"
      },
      "source": [
        "\n",
        "def plot_loss(history):\n",
        "  plt.plot(history.history['loss'], label = 'loss')\n",
        "  plt.plot(history.history['loss'], label = 'loss')\n",
        "  plt.ylim([0,10])\n",
        "  plt.xlabel('Epoch')\n",
        "  plt.ylabel('Error')\n",
        "  plt.legend()\n",
        "  plt.grid(True)"
      ],
      "execution_count": 13,
      "outputs": []
    },
    {
      "cell_type": "code",
      "metadata": {
        "id": "6zWvmt15YVE9"
      },
      "source": [
        "def basic_model(norm):\n",
        "  model = keras.Sequential([\n",
        "                            norm,\n",
        "                            tf.keras.layers.Dense(64, activation = 'relu'),\n",
        "                            tf.keras.layers.Dense(64, activation = 'relu'),\n",
        "                            tf.keras.layers.Dense(1)\n",
        "  ])\n",
        "  model.compile(optimizer='adam',\n",
        "                loss='mean_absolute_error',\n",
        "              metrics=['accuracy'])\n",
        "  return model\n"
      ],
      "execution_count": 14,
      "outputs": []
    },
    {
      "cell_type": "code",
      "metadata": {
        "colab": {
          "base_uri": "https://localhost:8080/"
        },
        "id": "y0YfuEg4JDMh",
        "outputId": "2efff430-4e0d-47ed-b38f-9fc0b4745cbd"
      },
      "source": [
        "dnn_predictor= basic_model(X_train_norm)\n",
        "dnn_predictor.summary()\n"
      ],
      "execution_count": 15,
      "outputs": [
        {
          "output_type": "stream",
          "text": [
            "Model: \"sequential\"\n",
            "_________________________________________________________________\n",
            "Layer (type)                 Output Shape              Param #   \n",
            "=================================================================\n",
            "normalization (Normalization (None, 5)                 11        \n",
            "_________________________________________________________________\n",
            "dense (Dense)                (None, 64)                384       \n",
            "_________________________________________________________________\n",
            "dense_1 (Dense)              (None, 64)                4160      \n",
            "_________________________________________________________________\n",
            "dense_2 (Dense)              (None, 1)                 65        \n",
            "=================================================================\n",
            "Total params: 4,620\n",
            "Trainable params: 4,609\n",
            "Non-trainable params: 11\n",
            "_________________________________________________________________\n"
          ],
          "name": "stdout"
        }
      ]
    },
    {
      "cell_type": "code",
      "metadata": {
        "id": "wlneuFYlNYJ9",
        "colab": {
          "base_uri": "https://localhost:8080/"
        },
        "outputId": "2f6388fe-bc0c-4b6b-f781-0ac223954a66"
      },
      "source": [
        "%%time\n",
        "history =  dnn_predictor.fit(X_train, y_train, validation_split=0.2, verbose=0, epochs=5000,callbacks=[tensorboard])"
      ],
      "execution_count": 17,
      "outputs": [
        {
          "output_type": "stream",
          "text": [
            "WARNING:tensorflow:Model was constructed with shape (None, 1) for input KerasTensor(type_spec=TensorSpec(shape=(None, 1), dtype=tf.float32, name='normalization_input'), name='normalization_input', description=\"created by layer 'normalization_input'\"), but it was called on an input with incompatible shape (None, 5).\n",
            "WARNING:tensorflow:Model was constructed with shape (None, 1) for input KerasTensor(type_spec=TensorSpec(shape=(None, 1), dtype=tf.float32, name='normalization_input'), name='normalization_input', description=\"created by layer 'normalization_input'\"), but it was called on an input with incompatible shape (None, 5).\n",
            "WARNING:tensorflow:Model was constructed with shape (None, 1) for input KerasTensor(type_spec=TensorSpec(shape=(None, 1), dtype=tf.float32, name='normalization_input'), name='normalization_input', description=\"created by layer 'normalization_input'\"), but it was called on an input with incompatible shape (None, 5).\n",
            "CPU times: user 5min 54s, sys: 11 s, total: 6min 5s\n",
            "Wall time: 5min 47s\n"
          ],
          "name": "stdout"
        }
      ]
    },
    {
      "cell_type": "code",
      "metadata": {
        "colab": {
          "base_uri": "https://localhost:8080/"
        },
        "id": "H-hw89RZJEyd",
        "outputId": "4001f7fd-dde1-4eb6-b477-e804f80a29e9"
      },
      "source": [
        "\n",
        "y_test[:]"
      ],
      "execution_count": 18,
      "outputs": [
        {
          "output_type": "execute_result",
          "data": {
            "text/plain": [
              "array([61., 36., 28., 44., 38., 75., 31., 55., 37., 45., 37., 56., 41.,\n",
              "       59., 38., 51., 27., 66., 70., 29., 45., 35., 37., 44., 40., 42.,\n",
              "       46., 38., 45., 34., 36., 46., 56., 48., 47., 52., 49., 60., 42.,\n",
              "       31., 52., 70., 54., 46., 45., 46., 49., 34., 60., 55., 39., 44.,\n",
              "       31., 30., 38., 63., 29., 49., 41., 34., 43., 31., 70., 70., 70.,\n",
              "       27., 47., 46., 56., 31., 70., 41., 46., 39.])"
            ]
          },
          "metadata": {
            "tags": []
          },
          "execution_count": 18
        }
      ]
    },
    {
      "cell_type": "code",
      "metadata": {
        "id": "u9jKn8HVvt9Y",
        "colab": {
          "base_uri": "https://localhost:8080/"
        },
        "outputId": "fbd11e4d-7ab9-458b-e8bc-9a91da11809b"
      },
      "source": [
        "dnn_predictor.predict(X_test)"
      ],
      "execution_count": 19,
      "outputs": [
        {
          "output_type": "execute_result",
          "data": {
            "text/plain": [
              "array([[61.12948 ],\n",
              "       [36.146957],\n",
              "       [30.140326],\n",
              "       [43.46972 ],\n",
              "       [37.492264],\n",
              "       [74.96453 ],\n",
              "       [31.06785 ],\n",
              "       [55.162228],\n",
              "       [36.803547],\n",
              "       [56.779358],\n",
              "       [36.803547],\n",
              "       [55.76113 ],\n",
              "       [37.194885],\n",
              "       [60.929993],\n",
              "       [38.03875 ],\n",
              "       [50.938118],\n",
              "       [26.88841 ],\n",
              "       [49.145042],\n",
              "       [70.04438 ],\n",
              "       [49.30126 ],\n",
              "       [35.2662  ],\n",
              "       [46.15055 ],\n",
              "       [40.159195],\n",
              "       [44.050987],\n",
              "       [41.149475],\n",
              "       [52.195724],\n",
              "       [45.968887],\n",
              "       [37.956192],\n",
              "       [53.854248],\n",
              "       [34.654427],\n",
              "       [35.702858],\n",
              "       [49.884186],\n",
              "       [42.779915],\n",
              "       [47.87645 ],\n",
              "       [47.157772],\n",
              "       [52.091423],\n",
              "       [48.77758 ],\n",
              "       [60.187294],\n",
              "       [42.0605  ],\n",
              "       [30.81678 ],\n",
              "       [51.839264],\n",
              "       [70.04438 ],\n",
              "       [63.146313],\n",
              "       [45.78    ],\n",
              "       [44.999428],\n",
              "       [43.654007],\n",
              "       [44.940437],\n",
              "       [34.291157],\n",
              "       [60.187294],\n",
              "       [58.265327],\n",
              "       [46.80522 ],\n",
              "       [44.050987],\n",
              "       [30.969227],\n",
              "       [30.03285 ],\n",
              "       [37.804577],\n",
              "       [63.11455 ],\n",
              "       [49.30126 ],\n",
              "       [44.940437],\n",
              "       [37.194885],\n",
              "       [56.606785],\n",
              "       [43.05726 ],\n",
              "       [30.969227],\n",
              "       [70.04438 ],\n",
              "       [70.04438 ],\n",
              "       [70.04438 ],\n",
              "       [54.6543  ],\n",
              "       [61.500076],\n",
              "       [46.54873 ],\n",
              "       [51.775143],\n",
              "       [30.81678 ],\n",
              "       [70.04438 ],\n",
              "       [41.02027 ],\n",
              "       [55.04017 ],\n",
              "       [57.88766 ]], dtype=float32)"
            ]
          },
          "metadata": {
            "tags": []
          },
          "execution_count": 19
        }
      ]
    },
    {
      "cell_type": "code",
      "metadata": {
        "colab": {
          "base_uri": "https://localhost:8080/",
          "height": 283
        },
        "id": "6hQD2gAcEGg4",
        "outputId": "1de74f75-f767-4934-e518-9683191af1f7"
      },
      "source": [
        "plot_loss(history)"
      ],
      "execution_count": 39,
      "outputs": [
        {
          "output_type": "display_data",
          "data": {
            "image/png": "[encoded data removed]",
            "text/plain": [
              "<Figure size 432x288 with 1 Axes>"
            ]
          },
          "metadata": {
            "tags": [],
            "needs_background": "light"
          }
        }
      ]
    },
    {
      "cell_type": "code",
      "metadata": {
        "colab": {
          "base_uri": "https://localhost:8080/"
        },
        "id": "zp4tFB87iUOu",
        "outputId": "41b07f8b-ce56-444a-af2c-aa6c7defb544"
      },
      "source": [
        "dnn_predictor.save('C:/Users/Kiran/Downloads/27April_Submission_Manish_Rahul/dnn_model')"
      ],
      "execution_count": 40,
      "outputs": [
        {
          "output_type": "stream",
          "text": [
            "INFO:tensorflow:Assets written to: C:/Users/Kiran/Downloads/27April_Submission_Manish_Rahul/dnn_model/assets\n"
          ],
          "name": "stdout"
        }
      ]
    },
    {
      "cell_type": "code",
      "metadata": {
        "id": "P6tl_Ho8imnk"
      },
      "source": [
        "from tensorflow import keras\n",
        "model = keras.models.load_model('C:/Users/Kiran/Downloads/27April_Submission_Manish_Rahul/dnn_model')"
      ],
      "execution_count": 22,
      "outputs": []
    },
    {
      "cell_type": "code",
      "metadata": {
        "colab": {
          "base_uri": "https://localhost:8080/"
        },
        "id": "17gVmemXjLe7",
        "outputId": "37c758f8-271f-4798-9fd5-ab038a7b7268"
      },
      "source": [
        "model.predict(X_test)"
      ],
      "execution_count": 25,
      "outputs": [
        {
          "output_type": "execute_result",
          "data": {
            "text/plain": [
              "array([[44.787262],\n",
              "       [42.692165],\n",
              "       [49.870605],\n",
              "       [44.5388  ],\n",
              "       [49.590477],\n",
              "       [54.238556],\n",
              "       [42.990265],\n",
              "       [41.938095],\n",
              "       [49.7978  ],\n",
              "       [55.467377],\n",
              "       [50.313377],\n",
              "       [45.635426],\n",
              "       [43.601807],\n",
              "       [52.8183  ],\n",
              "       [49.200974],\n",
              "       [44.631546],\n",
              "       [47.050964],\n",
              "       [49.834908],\n",
              "       [42.828552],\n",
              "       [45.380466],\n",
              "       [50.650093],\n",
              "       [45.19923 ],\n",
              "       [50.86338 ],\n",
              "       [46.13331 ],\n",
              "       [43.592014],\n",
              "       [44.795433],\n",
              "       [45.636345],\n",
              "       [45.76876 ],\n",
              "       [47.171467],\n",
              "       [44.891212],\n",
              "       [56.645294],\n",
              "       [47.522858],\n",
              "       [51.64525 ],\n",
              "       [45.25143 ],\n",
              "       [45.724144],\n",
              "       [42.889862],\n",
              "       [51.476467],\n",
              "       [39.40488 ],\n",
              "       [48.247643],\n",
              "       [38.844337],\n",
              "       [49.38852 ],\n",
              "       [47.219368],\n",
              "       [47.755573],\n",
              "       [57.79341 ],\n",
              "       [45.53292 ],\n",
              "       [43.116455],\n",
              "       [41.186565],\n",
              "       [46.626526],\n",
              "       [45.29895 ],\n",
              "       [45.82819 ],\n",
              "       [53.715946],\n",
              "       [49.638702],\n",
              "       [40.45823 ],\n",
              "       [47.006226],\n",
              "       [57.025208],\n",
              "       [53.174618],\n",
              "       [45.612038],\n",
              "       [46.816902],\n",
              "       [40.029747],\n",
              "       [51.003136],\n",
              "       [53.735313],\n",
              "       [48.71615 ],\n",
              "       [44.970516],\n",
              "       [47.14673 ],\n",
              "       [42.151344],\n",
              "       [47.38756 ],\n",
              "       [42.351814],\n",
              "       [48.14702 ],\n",
              "       [53.103703],\n",
              "       [53.323868],\n",
              "       [56.14092 ],\n",
              "       [44.960075],\n",
              "       [43.085487],\n",
              "       [44.128334],\n",
              "       [50.007324],\n",
              "       [45.587315],\n",
              "       [43.134747],\n",
              "       [45.729206],\n",
              "       [44.701424],\n",
              "       [55.141296],\n",
              "       [50.114117],\n",
              "       [56.239986],\n",
              "       [40.59493 ],\n",
              "       [50.980453],\n",
              "       [45.07029 ],\n",
              "       [46.837734],\n",
              "       [47.582176],\n",
              "       [51.644264],\n",
              "       [44.35112 ],\n",
              "       [44.308765],\n",
              "       [47.317017],\n",
              "       [41.946884],\n",
              "       [44.90706 ],\n",
              "       [42.637722],\n",
              "       [48.549335],\n",
              "       [49.265335],\n",
              "       [43.156258],\n",
              "       [48.247482],\n",
              "       [48.45674 ],\n",
              "       [42.718254],\n",
              "       [46.249836],\n",
              "       [39.4364  ],\n",
              "       [46.839615],\n",
              "       [48.905975],\n",
              "       [43.782722],\n",
              "       [48.105766],\n",
              "       [48.627632],\n",
              "       [47.31651 ],\n",
              "       [42.909454],\n",
              "       [42.35185 ],\n",
              "       [43.11014 ],\n",
              "       [46.855595],\n",
              "       [42.64801 ],\n",
              "       [44.104523],\n",
              "       [50.208878],\n",
              "       [49.714886],\n",
              "       [40.7947  ],\n",
              "       [39.756596],\n",
              "       [49.575653],\n",
              "       [58.025757],\n",
              "       [42.002167],\n",
              "       [52.3416  ],\n",
              "       [48.06467 ],\n",
              "       [51.444397],\n",
              "       [42.628082],\n",
              "       [43.84896 ],\n",
              "       [50.175278],\n",
              "       [52.144043],\n",
              "       [46.90254 ],\n",
              "       [49.43323 ],\n",
              "       [48.887978],\n",
              "       [49.397385],\n",
              "       [49.31001 ],\n",
              "       [42.93109 ],\n",
              "       [39.349148],\n",
              "       [51.550926],\n",
              "       [49.14956 ],\n",
              "       [49.157112],\n",
              "       [51.274475],\n",
              "       [43.365345],\n",
              "       [49.69826 ],\n",
              "       [42.984146],\n",
              "       [52.498238],\n",
              "       [45.00528 ]], dtype=float32)"
            ]
          },
          "metadata": {
            "tags": []
          },
          "execution_count": 25
        }
      ]
    },
    {
      "cell_type": "code",
      "metadata": {
        "colab": {
          "base_uri": "https://localhost:8080/"
        },
        "id": "boQNPnX_VsuA",
        "outputId": "686d7791-21bd-4123-c8ef-e3f6d531ca3b"
      },
      "source": [
        "#joblib.(dnn_predictor,'dnn_regression_model.joblib')\n",
        "joblib.dump(venue_encoder,'venue_encoder.joblib')\n",
        "joblib.dump(team_encoder,'team_encoder.joblib')"
      ],
      "execution_count": 41,
      "outputs": [
        {
          "output_type": "execute_result",
          "data": {
            "text/plain": [
              "['team_encoder.joblib']"
            ]
          },
          "metadata": {
            "tags": []
          },
          "execution_count": 41
        }
      ]
    },
    {
      "cell_type": "code",
      "metadata": {
        "id": "xBUpbwfZWZXU",
        "colab": {
          "base_uri": "https://localhost:8080/",
          "height": 17
        },
        "outputId": "78294b36-c8fe-463d-9d08-50722cff1b88"
      },
      "source": [
        "#files.download('dnn_regression_model.joblib')\n",
        "files.download('venue_encoder.joblib')\n",
        "files.download('team_encoder.joblib')"
      ],
      "execution_count": 42,
      "outputs": [
        {
          "output_type": "display_data",
          "data": {
            "application/javascript": [
              "\n",
              "    async function download(id, filename, size) {\n",
              "      if (!google.colab.kernel.accessAllowed) {\n",
              "        return;\n",
              "      }\n",
              "      const div = document.createElement('div');\n",
              "      const label = document.createElement('label');\n",
              "      label.textContent = `Downloading \"${filename}\": `;\n",
              "      div.appendChild(label);\n",
              "      const progress = document.createElement('progress');\n",
              "      progress.max = size;\n",
              "      div.appendChild(progress);\n",
              "      document.body.appendChild(div);\n",
              "\n",
              "      const buffers = [];\n",
              "      let downloaded = 0;\n",
              "\n",
              "      const channel = await google.colab.kernel.comms.open(id);\n",
              "      // Send a message to notify the kernel that we're ready.\n",
              "      channel.send({})\n",
              "\n",
              "      for await (const message of channel.messages) {\n",
              "        // Send a message to notify the kernel that we're ready.\n",
              "        channel.send({})\n",
              "        if (message.buffers) {\n",
              "          for (const buffer of message.buffers) {\n",
              "            buffers.push(buffer);\n",
              "            downloaded += buffer.byteLength;\n",
              "            progress.value = downloaded;\n",
              "          }\n",
              "        }\n",
              "      }\n",
              "      const blob = new Blob(buffers, {type: 'application/binary'});\n",
              "      const a = document.createElement('a');\n",
              "      a.href = window.URL.createObjectURL(blob);\n",
              "      a.download = filename;\n",
              "      div.appendChild(a);\n",
              "      a.click();\n",
              "      div.remove();\n",
              "    }\n",
              "  "
            ],
            "text/plain": [
              "<IPython.core.display.Javascript object>"
            ]
          },
          "metadata": {
            "tags": []
          }
        },
        {
          "output_type": "display_data",
          "data": {
            "application/javascript": [
              "download(\"download_f920e7f1-c02e-48bc-b9a8-c854e5195f2f\", \"venue_encoder.joblib\", 1211)"
            ],
            "text/plain": [
              "<IPython.core.display.Javascript object>"
            ]
          },
          "metadata": {
            "tags": []
          }
        },
        {
          "output_type": "display_data",
          "data": {
            "application/javascript": [
              "\n",
              "    async function download(id, filename, size) {\n",
              "      if (!google.colab.kernel.accessAllowed) {\n",
              "        return;\n",
              "      }\n",
              "      const div = document.createElement('div');\n",
              "      const label = document.createElement('label');\n",
              "      label.textContent = `Downloading \"${filename}\": `;\n",
              "      div.appendChild(label);\n",
              "      const progress = document.createElement('progress');\n",
              "      progress.max = size;\n",
              "      div.appendChild(progress);\n",
              "      document.body.appendChild(div);\n",
              "\n",
              "      const buffers = [];\n",
              "      let downloaded = 0;\n",
              "\n",
              "      const channel = await google.colab.kernel.comms.open(id);\n",
              "      // Send a message to notify the kernel that we're ready.\n",
              "      channel.send({})\n",
              "\n",
              "      for await (const message of channel.messages) {\n",
              "        // Send a message to notify the kernel that we're ready.\n",
              "        channel.send({})\n",
              "        if (message.buffers) {\n",
              "          for (const buffer of message.buffers) {\n",
              "            buffers.push(buffer);\n",
              "            downloaded += buffer.byteLength;\n",
              "            progress.value = downloaded;\n",
              "          }\n",
              "        }\n",
              "      }\n",
              "      const blob = new Blob(buffers, {type: 'application/binary'});\n",
              "      const a = document.createElement('a');\n",
              "      a.href = window.URL.createObjectURL(blob);\n",
              "      a.download = filename;\n",
              "      div.appendChild(a);\n",
              "      a.click();\n",
              "      div.remove();\n",
              "    }\n",
              "  "
            ],
            "text/plain": [
              "<IPython.core.display.Javascript object>"
            ]
          },
          "metadata": {
            "tags": []
          }
        },
        {
          "output_type": "display_data",
          "data": {
            "application/javascript": [
              "download(\"download_7f867b5b-1723-4b05-93ee-0f264f26e56c\", \"team_encoder.joblib\", 798)"
            ],
            "text/plain": [
              "<IPython.core.display.Javascript object>"
            ]
          },
          "metadata": {
            "tags": []
          }
        }
      ]
    },
    {
      "cell_type": "code",
      "metadata": {
        "id": "FSkpGm792U5n"
      },
      "source": [
        "import pandas as pd\n",
        "import numpy as np\n",
        "from sklearn.linear_model import LinearRegression\n",
        "from sklearn.preprocessing import LabelEncoder\n",
        "from sklearn.model_selection import train_test_split\n",
        "import joblib\n",
        "from google.colab import files\n",
        "import tensorflow as tf\n",
        "from tensorflow.keras.callbacks import TensorBoard\n",
        "import time\n",
        "from tensorflow.keras.layers.experimental import preprocessing\n",
        "from tensorflow import keras\n",
        "import matplotlib.pyplot as plt\n",
        "\n",
        "def predictRuns(testInput):\n",
        "    prediction = 0\n",
        "    ### Your Code Here ###\n",
        "\n",
        "    #load models and encoders\n",
        "    #with open(\"dnn_regression_model.joblib\",\"rb\") as f:\n",
        "    regressor =  keras.models.load_model('C:/Users/Kiran/Downloads/27April_Submission_Manish_Rahul/dnn_model')\n",
        "    with open(\"venue_encoder.joblib\", \"rb\") as f:\n",
        "        venue_encoder = joblib.load(f)\n",
        "    with open(\"team_encoder.joblib\",\"rb\") as f:\n",
        "        team_encoder = joblib.load(f)\n",
        "    #read testcase\n",
        "    test_case = pd.read_csv(testInput)\n",
        "\n",
        "    test_case[\"venue\"] = venue_encoder.transform(test_case[\"venue\"])\n",
        "    test_case[\"batting_team\"] = team_encoder.transform(test_case[\"batting_team\"])\n",
        "    test_case[\"bowling_team\"] = team_encoder.transform(test_case[\"bowling_team\"])\n",
        "    test_case[\"wickets\"] = len(test_case[\"batsmen\"].to_string().split(\",\"))-1\n",
        "\n",
        "    test_case = test_case[[\"venue\",\"innings\",\"batting_team\",\"bowling_team\",\"wickets\"]]\n",
        "\n",
        "    test_case = test_case.to_numpy()\n",
        "\n",
        "    predictions = regressor.predict(test_case)\n",
        "\n",
        "    return np.round(predictions)"
      ],
      "execution_count": 34,
      "outputs": []
    },
    {
      "cell_type": "code",
      "metadata": {
        "id": "rBFbVxbB2oFe",
        "colab": {
          "resources": {
            "http://localhost:8080/nbextensions/google.colab/files.js": {
              "data": "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",
              "ok": true,
              "headers": [
                [
                  "content-type",
                  "application/javascript"
                ]
              ],
              "status": 200,
              "status_text": ""
            }
          },
          "base_uri": "https://localhost:8080/",
          "height": 56
        },
        "outputId": "4a3bf08e-8076-41a5-917b-d3c89faed533"
      },
      "source": [
        "from google.colab import files\n",
        "\n",
        "\n",
        "files.upload()"
      ],
      "execution_count": 266,
      "outputs": [
        {
          "output_type": "display_data",
          "data": {
            "text/html": [
              "\n",
              "     <input type=\"file\" id=\"files-338abb2f-aad0-45fb-b717-01f0f6da6d51\" name=\"files[]\" multiple disabled\n",
              "        style=\"border:none\" />\n",
              "     <output id=\"result-338abb2f-aad0-45fb-b717-01f0f6da6d51\">\n",
              "      Upload widget is only available when the cell has been executed in the\n",
              "      current browser session. Please rerun this cell to enable.\n",
              "      </output>\n",
              "      <script src=\"/nbextensions/google.colab/files.js\"></script> "
            ],
            "text/plain": [
              "<IPython.core.display.HTML object>"
            ]
          },
          "metadata": {
            "tags": []
          }
        },
        {
          "output_type": "execute_result",
          "data": {
            "text/plain": [
              "{}"
            ]
          },
          "metadata": {
            "tags": []
          },
          "execution_count": 266
        }
      ]
    },
    {
      "cell_type": "code",
      "metadata": {
        "colab": {
          "resources": {
            "http://localhost:8080/nbextensions/google.colab/files.js": {
              "data": "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",
              "ok": true,
              "headers": [
                [
                  "content-type",
                  "application/javascript"
                ]
              ],
              "status": 200,
              "status_text": ""
            }
          },
          "base_uri": "https://localhost:8080/",
          "height": 73
        },
        "id": "-q084wmnx4Ba",
        "outputId": "0fcc0f1d-4035-45cc-b5b1-98c3a31ba241"
      },
      "source": [
        "uploaded = files.upload()\n"
      ],
      "execution_count": 43,
      "outputs": [
        {
          "output_type": "display_data",
          "data": {
            "text/html": [
              "\n",
              "     <input type=\"file\" id=\"files-bee224b8-6ac4-4af5-a120-5f8f762b8da8\" name=\"files[]\" multiple disabled\n",
              "        style=\"border:none\" />\n",
              "     <output id=\"result-bee224b8-6ac4-4af5-a120-5f8f762b8da8\">\n",
              "      Upload widget is only available when the cell has been executed in the\n",
              "      current browser session. Please rerun this cell to enable.\n",
              "      </output>\n",
              "      <script src=\"/nbextensions/google.colab/files.js\"></script> "
            ],
            "text/plain": [
              "<IPython.core.display.HTML object>"
            ]
          },
          "metadata": {
            "tags": []
          }
        },
        {
          "output_type": "stream",
          "text": [
            "Saving input3.csv to input3 (2).csv\n"
          ],
          "name": "stdout"
        }
      ]
    },
    {
      "cell_type": "code",
      "metadata": {
        "id": "ukpQzBtD2Ewo",
        "colab": {
          "base_uri": "https://localhost:8080/"
        },
        "outputId": "110a8667-60dd-4740-90d7-e847b042c458"
      },
      "source": [
        "### Imports ###\n",
        "# add imports - classes and defs\n",
        "\n",
        "import sys\n",
        "\n",
        "#from predictor import predictRuns\n",
        "\n",
        "\"\"\"\n",
        "sys.argv[1] is the input test file name given as command line arguments\n",
        "\n",
        "\"\"\"\n",
        "runs = predictRuns('input3.csv')\n",
        "print(\"Predicted Runs: \", runs)"
      ],
      "execution_count": 36,
      "outputs": [
        {
          "output_type": "stream",
          "text": [
            "WARNING:tensorflow:Model was constructed with shape (None, 1) for input KerasTensor(type_spec=TensorSpec(shape=(None, 1), dtype=tf.float32, name='normalization_input'), name='normalization_input', description=\"created by layer 'normalization_input'\"), but it was called on an input with incompatible shape (None, 5).\n",
            "WARNING:tensorflow:5 out of the last 10 calls to <function Model.make_predict_function.<locals>.predict_function at 0x7f8a0a388ef0> triggered tf.function retracing. Tracing is expensive and the excessive number of tracings could be due to (1) creating @tf.function repeatedly in a loop, (2) passing tensors with different shapes, (3) passing Python objects instead of tensors. For (1), please define your @tf.function outside of the loop. For (2), @tf.function has experimental_relax_shapes=True option that relaxes argument shapes that can avoid unnecessary retracing. For (3), please refer to https://www.tensorflow.org/guide/function#controlling_retracing and https://www.tensorflow.org/api_docs/python/tf/function for  more details.\n",
            "Predicted Runs:  [[46.]]\n"
          ],
          "name": "stdout"
        }
      ]
    }
  ]
}